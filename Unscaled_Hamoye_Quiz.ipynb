{
  "nbformat": 4,
  "nbformat_minor": 0,
  "metadata": {
    "colab": {
      "name": "Unscaled Hamoye Quiz.ipynb",
      "provenance": [],
      "authorship_tag": "ABX9TyMkn233Mpe3t/mNMvugolaE",
      "include_colab_link": true
    },
    "kernelspec": {
      "name": "python3",
      "display_name": "Python 3"
    },
    "accelerator": "GPU"
  },
  "cells": [
    {
      "cell_type": "markdown",
      "metadata": {
        "id": "view-in-github",
        "colab_type": "text"
      },
      "source": [
        "<a href=\"https://colab.research.google.com/github/beejhay31/100-days-of-code/blob/master/Unscaled_Hamoye_Quiz.ipynb\" target=\"_parent\"><img src=\"https://colab.research.google.com/assets/colab-badge.svg\" alt=\"Open In Colab\"/></a>"
      ]
    },
    {
      "cell_type": "code",
      "metadata": {
        "id": "o5MtRkYgvIPp",
        "colab_type": "code",
        "colab": {}
      },
      "source": [
        "import pandas as pd"
      ],
      "execution_count": 1,
      "outputs": []
    },
    {
      "cell_type": "code",
      "metadata": {
        "id": "jN2QAO6rvRV0",
        "colab_type": "code",
        "colab": {}
      },
      "source": [
        "df=pd.read_csv('https://archive.ics.uci.edu/ml/machine-learning-databases/00374/energydata_complete.csv')"
      ],
      "execution_count": 2,
      "outputs": []
    },
    {
      "cell_type": "code",
      "metadata": {
        "id": "sUWinN13vULl",
        "colab_type": "code",
        "colab": {}
      },
      "source": [
        "column_names = {'T1':'Temp_Kitch(Cel)', 'RH_1': 'Humid_kitch(%)',\n",
        "'T2': 'Temp_liv_r(Cel)', 'RH_2': 'Humid_liv_r(%)', 'T3': 'Temp_laund_r(Cel)', 'RH_3': 'Humid_laund_r(%)',\n",
        "'T4': 'Temp_office_r(Cel)', 'RH_4': 'Humid_office_r(%)', 'T5': 'Temp_bath_r(Cel)', 'RH_5': 'Humid_bath_r(%)', \n",
        "'T6': 'Temp_out_build_North(Cel)', 'RH_6': 'Humid_out_build_North(%)',\n",
        "'T7': 'Temp_iron_r(Cel)', 'RH_7': 'Humid_iron_r(%)', 'T8': 'Temp_teen_r(Cel)', 'RH_8': 'Humid_teen_r(%)',\n",
        "'T9': 'Humid_par_room(Cel)', 'RH_9': 'Humid_par_room(%)',\n",
        "'rv1': 'rand_var1', 'rv2': 'rand_var2'}"
      ],
      "execution_count": 3,
      "outputs": []
    },
    {
      "cell_type": "code",
      "metadata": {
        "id": "e_LWd9xIvY6A",
        "colab_type": "code",
        "colab": {}
      },
      "source": [
        "df = df.rename(columns=column_names)"
      ],
      "execution_count": 4,
      "outputs": []
    },
    {
      "cell_type": "code",
      "metadata": {
        "id": "Kpci4Mrexnru",
        "colab_type": "code",
        "colab": {}
      },
      "source": [
        "df = df.drop(columns=['date', 'lights'])\n",
        "target_var = df['Appliances']"
      ],
      "execution_count": 5,
      "outputs": []
    },
    {
      "cell_type": "code",
      "metadata": {
        "id": "WH2ulZz3vbyR",
        "colab_type": "code",
        "colab": {}
      },
      "source": [
        "from sklearn.model_selection import train_test_split\n",
        "x_train, x_test, y_train, y_test = train_test_split(df, target_var, test_size=0.3, random_state=42)"
      ],
      "execution_count": 6,
      "outputs": []
    },
    {
      "cell_type": "code",
      "metadata": {
        "id": "7cOl4h2ixWyy",
        "colab_type": "code",
        "colab": {}
      },
      "source": [
        "from sklearn.linear_model import LinearRegression\n",
        "linear_reg = LinearRegression()\n",
        "linear_reg.fit(x_train, y_train)\n",
        "predicted_values = linear_reg.predict(x_test)"
      ],
      "execution_count": 7,
      "outputs": []
    },
    {
      "cell_type": "code",
      "metadata": {
        "id": "iBFzbof9q93V",
        "colab_type": "code",
        "colab": {
          "base_uri": "https://localhost:8080/",
          "height": 419
        },
        "outputId": "1c56c9d5-23d1-445e-f0c4-551c0a9b8a95"
      },
      "source": [
        "pred_val_df=pd.DataFrame(predicted_values)\n",
        "pred_val_df"
      ],
      "execution_count": 8,
      "outputs": [
        {
          "output_type": "execute_result",
          "data": {
            "text/html": [
              "<div>\n",
              "<style scoped>\n",
              "    .dataframe tbody tr th:only-of-type {\n",
              "        vertical-align: middle;\n",
              "    }\n",
              "\n",
              "    .dataframe tbody tr th {\n",
              "        vertical-align: top;\n",
              "    }\n",
              "\n",
              "    .dataframe thead th {\n",
              "        text-align: right;\n",
              "    }\n",
              "</style>\n",
              "<table border=\"1\" class=\"dataframe\">\n",
              "  <thead>\n",
              "    <tr style=\"text-align: right;\">\n",
              "      <th></th>\n",
              "      <th>0</th>\n",
              "    </tr>\n",
              "  </thead>\n",
              "  <tbody>\n",
              "    <tr>\n",
              "      <th>0</th>\n",
              "      <td>40.0</td>\n",
              "    </tr>\n",
              "    <tr>\n",
              "      <th>1</th>\n",
              "      <td>90.0</td>\n",
              "    </tr>\n",
              "    <tr>\n",
              "      <th>2</th>\n",
              "      <td>50.0</td>\n",
              "    </tr>\n",
              "    <tr>\n",
              "      <th>3</th>\n",
              "      <td>50.0</td>\n",
              "    </tr>\n",
              "    <tr>\n",
              "      <th>4</th>\n",
              "      <td>70.0</td>\n",
              "    </tr>\n",
              "    <tr>\n",
              "      <th>...</th>\n",
              "      <td>...</td>\n",
              "    </tr>\n",
              "    <tr>\n",
              "      <th>5916</th>\n",
              "      <td>250.0</td>\n",
              "    </tr>\n",
              "    <tr>\n",
              "      <th>5917</th>\n",
              "      <td>60.0</td>\n",
              "    </tr>\n",
              "    <tr>\n",
              "      <th>5918</th>\n",
              "      <td>50.0</td>\n",
              "    </tr>\n",
              "    <tr>\n",
              "      <th>5919</th>\n",
              "      <td>110.0</td>\n",
              "    </tr>\n",
              "    <tr>\n",
              "      <th>5920</th>\n",
              "      <td>50.0</td>\n",
              "    </tr>\n",
              "  </tbody>\n",
              "</table>\n",
              "<p>5921 rows × 1 columns</p>\n",
              "</div>"
            ],
            "text/plain": [
              "          0\n",
              "0      40.0\n",
              "1      90.0\n",
              "2      50.0\n",
              "3      50.0\n",
              "4      70.0\n",
              "...     ...\n",
              "5916  250.0\n",
              "5917   60.0\n",
              "5918   50.0\n",
              "5919  110.0\n",
              "5920   50.0\n",
              "\n",
              "[5921 rows x 1 columns]"
            ]
          },
          "metadata": {
            "tags": []
          },
          "execution_count": 8
        }
      ]
    },
    {
      "cell_type": "code",
      "metadata": {
        "id": "q7yvr7Hqo4gc",
        "colab_type": "code",
        "colab": {
          "base_uri": "https://localhost:8080/",
          "height": 34
        },
        "outputId": "c46bb8a2-be37-4c96-db2b-3bbcf8317306"
      },
      "source": [
        "from sklearn.metrics import mean_absolute_error\n",
        "mae = mean_absolute_error(y_test, predicted_values)\n",
        "round(mae, 3) "
      ],
      "execution_count": 9,
      "outputs": [
        {
          "output_type": "execute_result",
          "data": {
            "text/plain": [
              "0.0"
            ]
          },
          "metadata": {
            "tags": []
          },
          "execution_count": 9
        }
      ]
    },
    {
      "cell_type": "code",
      "metadata": {
        "id": "AZn6rvs-o8CI",
        "colab_type": "code",
        "colab": {
          "base_uri": "https://localhost:8080/",
          "height": 34
        },
        "outputId": "e1de6e0f-b46a-48d8-b504-47b93f56f026"
      },
      "source": [
        "from sklearn.metrics import r2_score\n",
        "r2_score = r2_score(y_test, predicted_values)\n",
        "round(r2_score, 3)"
      ],
      "execution_count": 10,
      "outputs": [
        {
          "output_type": "execute_result",
          "data": {
            "text/plain": [
              "1.0"
            ]
          },
          "metadata": {
            "tags": []
          },
          "execution_count": 10
        }
      ]
    },
    {
      "cell_type": "code",
      "metadata": {
        "id": "I_9NIOJIpKL3",
        "colab_type": "code",
        "colab": {
          "base_uri": "https://localhost:8080/",
          "height": 34
        },
        "outputId": "d258b692-0381-4105-c96a-0482a5c1b730"
      },
      "source": [
        "import numpy as np\n",
        "rss = np.sum(np.square(y_test - predicted_values))\n",
        "round(rss, 3)"
      ],
      "execution_count": 11,
      "outputs": [
        {
          "output_type": "execute_result",
          "data": {
            "text/plain": [
              "0.0"
            ]
          },
          "metadata": {
            "tags": []
          },
          "execution_count": 11
        }
      ]
    },
    {
      "cell_type": "code",
      "metadata": {
        "id": "E9vKZn5MpPpz",
        "colab_type": "code",
        "colab": {
          "base_uri": "https://localhost:8080/",
          "height": 34
        },
        "outputId": "22af60d2-5ddd-4732-bffb-62e34b9dd629"
      },
      "source": [
        "from sklearn.metrics import  mean_squared_error\n",
        "rmse = np.sqrt(mean_squared_error(y_test, predicted_values))\n",
        "round(rmse, 3)"
      ],
      "execution_count": 12,
      "outputs": [
        {
          "output_type": "execute_result",
          "data": {
            "text/plain": [
              "0.0"
            ]
          },
          "metadata": {
            "tags": []
          },
          "execution_count": 12
        }
      ]
    },
    {
      "cell_type": "code",
      "metadata": {
        "id": "n7KMxEC2psCu",
        "colab_type": "code",
        "colab": {
          "base_uri": "https://localhost:8080/",
          "height": 71
        },
        "outputId": "a6e26ec3-f90f-4d28-d689-65510e4fdb29"
      },
      "source": [
        "from sklearn.linear_model import Ridge\n",
        "ridge_reg = Ridge(alpha=0.5)\n",
        "ridge_reg.fit(x_train, y_train)"
      ],
      "execution_count": 13,
      "outputs": [
        {
          "output_type": "execute_result",
          "data": {
            "text/plain": [
              "Ridge(alpha=0.5, copy_X=True, fit_intercept=True, max_iter=None,\n",
              "      normalize=False, random_state=None, solver='auto', tol=0.001)"
            ]
          },
          "metadata": {
            "tags": []
          },
          "execution_count": 13
        }
      ]
    },
    {
      "cell_type": "code",
      "metadata": {
        "id": "gFm8wpX-prEV",
        "colab_type": "code",
        "colab": {
          "base_uri": "https://localhost:8080/",
          "height": 88
        },
        "outputId": "affd6e59-5006-4a06-8cae-cabb2c913954"
      },
      "source": [
        "from sklearn.linear_model import Lasso\n",
        "lasso_reg = Lasso(alpha=0.001)\n",
        "lasso_reg.fit(x_train, y_train)"
      ],
      "execution_count": 14,
      "outputs": [
        {
          "output_type": "execute_result",
          "data": {
            "text/plain": [
              "Lasso(alpha=0.001, copy_X=True, fit_intercept=True, max_iter=1000,\n",
              "      normalize=False, positive=False, precompute=False, random_state=None,\n",
              "      selection='cyclic', tol=0.0001, warm_start=False)"
            ]
          },
          "metadata": {
            "tags": []
          },
          "execution_count": 14
        }
      ]
    },
    {
      "cell_type": "code",
      "metadata": {
        "id": "buFzX0WcpPEf",
        "colab_type": "code",
        "colab": {
          "base_uri": "https://localhost:8080/",
          "height": 88
        },
        "outputId": "78f2c3ba-5bdf-4e18-8ca2-f4151117143d"
      },
      "source": [
        "from sklearn.linear_model import ElasticNet\n",
        "e_net = ElasticNet(alpha = 0.001) \n",
        "e_net.fit(x_train, y_train) "
      ],
      "execution_count": 15,
      "outputs": [
        {
          "output_type": "execute_result",
          "data": {
            "text/plain": [
              "ElasticNet(alpha=0.001, copy_X=True, fit_intercept=True, l1_ratio=0.5,\n",
              "           max_iter=1000, normalize=False, positive=False, precompute=False,\n",
              "           random_state=None, selection='cyclic', tol=0.0001, warm_start=False)"
            ]
          },
          "metadata": {
            "tags": []
          },
          "execution_count": 15
        }
      ]
    },
    {
      "cell_type": "code",
      "metadata": {
        "id": "CfRZT4h2qg2O",
        "colab_type": "code",
        "colab": {}
      },
      "source": [
        "def get_weights_df(model, feat, col_name):\n",
        "  #this function returns the weight of every feature\n",
        "  weights = pd.Series(model.coef_, feat.columns).sort_values()\n",
        "  weights_df = pd.DataFrame(weights).reset_index()\n",
        "  weights_df.columns = ['Features', col_name]\n",
        "  weights_df[col_name].round(3)\n",
        "  return weights_df"
      ],
      "execution_count": 16,
      "outputs": []
    },
    {
      "cell_type": "code",
      "metadata": {
        "id": "wPcoNYdlrQUu",
        "colab_type": "code",
        "colab": {}
      },
      "source": [
        "linear_model_weights = get_weights_df(linear_reg, x_train, 'Linear_Model_Weight')\n",
        "ridge_weights_df = get_weights_df(ridge_reg, x_train, 'Ridge_Weight')\n",
        "lasso_weights_df = get_weights_df(lasso_reg, x_train, 'Lasso_weight')\n",
        "e_weights_df = get_weights_df(e_net, x_train, 'E_weights')"
      ],
      "execution_count": 17,
      "outputs": []
    },
    {
      "cell_type": "code",
      "metadata": {
        "id": "JIdZm4BYrPmR",
        "colab_type": "code",
        "colab": {}
      },
      "source": [
        "final_weights = pd.merge(linear_model_weights, ridge_weights_df, on='Features')\n",
        "final_weights = pd.merge(final_weights, lasso_weights_df, on='Features')\n",
        "final_weights=pd.merge(final_weights, e_weights_df, on='Features')"
      ],
      "execution_count": 18,
      "outputs": []
    },
    {
      "cell_type": "code",
      "metadata": {
        "id": "UjG1c918sAeH",
        "colab_type": "code",
        "colab": {
          "base_uri": "https://localhost:8080/",
          "height": 906
        },
        "outputId": "b022b9c7-0909-452c-a4e4-d3be1ff98079"
      },
      "source": [
        "final_weights"
      ],
      "execution_count": 19,
      "outputs": [
        {
          "output_type": "execute_result",
          "data": {
            "text/html": [
              "<div>\n",
              "<style scoped>\n",
              "    .dataframe tbody tr th:only-of-type {\n",
              "        vertical-align: middle;\n",
              "    }\n",
              "\n",
              "    .dataframe tbody tr th {\n",
              "        vertical-align: top;\n",
              "    }\n",
              "\n",
              "    .dataframe thead th {\n",
              "        text-align: right;\n",
              "    }\n",
              "</style>\n",
              "<table border=\"1\" class=\"dataframe\">\n",
              "  <thead>\n",
              "    <tr style=\"text-align: right;\">\n",
              "      <th></th>\n",
              "      <th>Features</th>\n",
              "      <th>Linear_Model_Weight</th>\n",
              "      <th>Ridge_Weight</th>\n",
              "      <th>Lasso_weight</th>\n",
              "      <th>E_weights</th>\n",
              "    </tr>\n",
              "  </thead>\n",
              "  <tbody>\n",
              "    <tr>\n",
              "      <th>0</th>\n",
              "      <td>Temp_iron_r(Cel)</td>\n",
              "      <td>-7.087772e-15</td>\n",
              "      <td>4.147740e-09</td>\n",
              "      <td>0.0</td>\n",
              "      <td>0.0</td>\n",
              "    </tr>\n",
              "    <tr>\n",
              "      <th>1</th>\n",
              "      <td>Temp_Kitch(Cel)</td>\n",
              "      <td>-5.476270e-15</td>\n",
              "      <td>-1.484659e-09</td>\n",
              "      <td>0.0</td>\n",
              "      <td>0.0</td>\n",
              "    </tr>\n",
              "    <tr>\n",
              "      <th>2</th>\n",
              "      <td>Humid_liv_r(%)</td>\n",
              "      <td>-2.950576e-15</td>\n",
              "      <td>-5.484821e-08</td>\n",
              "      <td>-0.0</td>\n",
              "      <td>-0.0</td>\n",
              "    </tr>\n",
              "    <tr>\n",
              "      <th>3</th>\n",
              "      <td>Humid_teen_r(%)</td>\n",
              "      <td>-2.326982e-15</td>\n",
              "      <td>-2.307086e-08</td>\n",
              "      <td>-0.0</td>\n",
              "      <td>-0.0</td>\n",
              "    </tr>\n",
              "    <tr>\n",
              "      <th>4</th>\n",
              "      <td>Temp_bath_r(Cel)</td>\n",
              "      <td>-2.035198e-15</td>\n",
              "      <td>-6.397142e-09</td>\n",
              "      <td>0.0</td>\n",
              "      <td>0.0</td>\n",
              "    </tr>\n",
              "    <tr>\n",
              "      <th>5</th>\n",
              "      <td>Temp_out_build_North(Cel)</td>\n",
              "      <td>-1.461417e-15</td>\n",
              "      <td>2.939252e-08</td>\n",
              "      <td>0.0</td>\n",
              "      <td>0.0</td>\n",
              "    </tr>\n",
              "    <tr>\n",
              "      <th>6</th>\n",
              "      <td>Humid_office_r(%)</td>\n",
              "      <td>-1.166994e-15</td>\n",
              "      <td>4.808971e-09</td>\n",
              "      <td>0.0</td>\n",
              "      <td>0.0</td>\n",
              "    </tr>\n",
              "    <tr>\n",
              "      <th>7</th>\n",
              "      <td>Temp_liv_r(Cel)</td>\n",
              "      <td>-7.620131e-16</td>\n",
              "      <td>-7.331837e-08</td>\n",
              "      <td>0.0</td>\n",
              "      <td>0.0</td>\n",
              "    </tr>\n",
              "    <tr>\n",
              "      <th>8</th>\n",
              "      <td>Visibility</td>\n",
              "      <td>-4.427981e-16</td>\n",
              "      <td>8.087579e-10</td>\n",
              "      <td>0.0</td>\n",
              "      <td>0.0</td>\n",
              "    </tr>\n",
              "    <tr>\n",
              "      <th>9</th>\n",
              "      <td>Press_mm_hg</td>\n",
              "      <td>-2.091080e-16</td>\n",
              "      <td>6.795164e-10</td>\n",
              "      <td>-0.0</td>\n",
              "      <td>-0.0</td>\n",
              "    </tr>\n",
              "    <tr>\n",
              "      <th>10</th>\n",
              "      <td>Tdewpoint</td>\n",
              "      <td>-1.817450e-16</td>\n",
              "      <td>2.274864e-08</td>\n",
              "      <td>0.0</td>\n",
              "      <td>0.0</td>\n",
              "    </tr>\n",
              "    <tr>\n",
              "      <th>11</th>\n",
              "      <td>rand_var1</td>\n",
              "      <td>-6.397143e-17</td>\n",
              "      <td>6.611456e-11</td>\n",
              "      <td>-0.0</td>\n",
              "      <td>-0.0</td>\n",
              "    </tr>\n",
              "    <tr>\n",
              "      <th>12</th>\n",
              "      <td>rand_var2</td>\n",
              "      <td>-6.397143e-17</td>\n",
              "      <td>6.548362e-11</td>\n",
              "      <td>-0.0</td>\n",
              "      <td>-0.0</td>\n",
              "    </tr>\n",
              "    <tr>\n",
              "      <th>13</th>\n",
              "      <td>Humid_par_room(%)</td>\n",
              "      <td>2.152063e-17</td>\n",
              "      <td>-7.037962e-09</td>\n",
              "      <td>-0.0</td>\n",
              "      <td>-0.0</td>\n",
              "    </tr>\n",
              "    <tr>\n",
              "      <th>14</th>\n",
              "      <td>Humid_out_build_North(%)</td>\n",
              "      <td>8.788560e-17</td>\n",
              "      <td>1.643273e-09</td>\n",
              "      <td>-0.0</td>\n",
              "      <td>-0.0</td>\n",
              "    </tr>\n",
              "    <tr>\n",
              "      <th>15</th>\n",
              "      <td>Windspeed</td>\n",
              "      <td>1.432042e-16</td>\n",
              "      <td>8.905222e-09</td>\n",
              "      <td>0.0</td>\n",
              "      <td>0.0</td>\n",
              "    </tr>\n",
              "    <tr>\n",
              "      <th>16</th>\n",
              "      <td>Humid_bath_r(%)</td>\n",
              "      <td>2.866672e-16</td>\n",
              "      <td>1.028186e-09</td>\n",
              "      <td>0.0</td>\n",
              "      <td>0.0</td>\n",
              "    </tr>\n",
              "    <tr>\n",
              "      <th>17</th>\n",
              "      <td>RH_out</td>\n",
              "      <td>4.011595e-16</td>\n",
              "      <td>-4.363412e-09</td>\n",
              "      <td>-0.0</td>\n",
              "      <td>-0.0</td>\n",
              "    </tr>\n",
              "    <tr>\n",
              "      <th>18</th>\n",
              "      <td>Humid_kitch(%)</td>\n",
              "      <td>1.304745e-15</td>\n",
              "      <td>6.507045e-08</td>\n",
              "      <td>0.0</td>\n",
              "      <td>0.0</td>\n",
              "    </tr>\n",
              "    <tr>\n",
              "      <th>19</th>\n",
              "      <td>Humid_laund_r(%)</td>\n",
              "      <td>1.437038e-15</td>\n",
              "      <td>1.917548e-08</td>\n",
              "      <td>0.0</td>\n",
              "      <td>0.0</td>\n",
              "    </tr>\n",
              "    <tr>\n",
              "      <th>20</th>\n",
              "      <td>Temp_office_r(Cel)</td>\n",
              "      <td>1.449007e-15</td>\n",
              "      <td>1.114789e-08</td>\n",
              "      <td>0.0</td>\n",
              "      <td>0.0</td>\n",
              "    </tr>\n",
              "    <tr>\n",
              "      <th>21</th>\n",
              "      <td>Temp_laund_r(Cel)</td>\n",
              "      <td>1.908760e-15</td>\n",
              "      <td>1.031378e-07</td>\n",
              "      <td>0.0</td>\n",
              "      <td>0.0</td>\n",
              "    </tr>\n",
              "    <tr>\n",
              "      <th>22</th>\n",
              "      <td>Humid_iron_r(%)</td>\n",
              "      <td>2.956383e-15</td>\n",
              "      <td>-6.758007e-09</td>\n",
              "      <td>-0.0</td>\n",
              "      <td>-0.0</td>\n",
              "    </tr>\n",
              "    <tr>\n",
              "      <th>23</th>\n",
              "      <td>T_out</td>\n",
              "      <td>3.131673e-15</td>\n",
              "      <td>-4.419385e-08</td>\n",
              "      <td>0.0</td>\n",
              "      <td>0.0</td>\n",
              "    </tr>\n",
              "    <tr>\n",
              "      <th>24</th>\n",
              "      <td>Humid_par_room(Cel)</td>\n",
              "      <td>4.039849e-15</td>\n",
              "      <td>-8.441097e-08</td>\n",
              "      <td>0.0</td>\n",
              "      <td>0.0</td>\n",
              "    </tr>\n",
              "    <tr>\n",
              "      <th>25</th>\n",
              "      <td>Temp_teen_r(Cel)</td>\n",
              "      <td>5.184688e-15</td>\n",
              "      <td>3.988343e-08</td>\n",
              "      <td>0.0</td>\n",
              "      <td>0.0</td>\n",
              "    </tr>\n",
              "    <tr>\n",
              "      <th>26</th>\n",
              "      <td>Appliances</td>\n",
              "      <td>1.000000e+00</td>\n",
              "      <td>1.000000e+00</td>\n",
              "      <td>1.0</td>\n",
              "      <td>1.0</td>\n",
              "    </tr>\n",
              "  </tbody>\n",
              "</table>\n",
              "</div>"
            ],
            "text/plain": [
              "                     Features  Linear_Model_Weight  ...  Lasso_weight  E_weights\n",
              "0            Temp_iron_r(Cel)        -7.087772e-15  ...           0.0        0.0\n",
              "1             Temp_Kitch(Cel)        -5.476270e-15  ...           0.0        0.0\n",
              "2              Humid_liv_r(%)        -2.950576e-15  ...          -0.0       -0.0\n",
              "3             Humid_teen_r(%)        -2.326982e-15  ...          -0.0       -0.0\n",
              "4            Temp_bath_r(Cel)        -2.035198e-15  ...           0.0        0.0\n",
              "5   Temp_out_build_North(Cel)        -1.461417e-15  ...           0.0        0.0\n",
              "6           Humid_office_r(%)        -1.166994e-15  ...           0.0        0.0\n",
              "7             Temp_liv_r(Cel)        -7.620131e-16  ...           0.0        0.0\n",
              "8                  Visibility        -4.427981e-16  ...           0.0        0.0\n",
              "9                 Press_mm_hg        -2.091080e-16  ...          -0.0       -0.0\n",
              "10                  Tdewpoint        -1.817450e-16  ...           0.0        0.0\n",
              "11                  rand_var1        -6.397143e-17  ...          -0.0       -0.0\n",
              "12                  rand_var2        -6.397143e-17  ...          -0.0       -0.0\n",
              "13          Humid_par_room(%)         2.152063e-17  ...          -0.0       -0.0\n",
              "14   Humid_out_build_North(%)         8.788560e-17  ...          -0.0       -0.0\n",
              "15                  Windspeed         1.432042e-16  ...           0.0        0.0\n",
              "16            Humid_bath_r(%)         2.866672e-16  ...           0.0        0.0\n",
              "17                     RH_out         4.011595e-16  ...          -0.0       -0.0\n",
              "18             Humid_kitch(%)         1.304745e-15  ...           0.0        0.0\n",
              "19           Humid_laund_r(%)         1.437038e-15  ...           0.0        0.0\n",
              "20         Temp_office_r(Cel)         1.449007e-15  ...           0.0        0.0\n",
              "21          Temp_laund_r(Cel)         1.908760e-15  ...           0.0        0.0\n",
              "22            Humid_iron_r(%)         2.956383e-15  ...          -0.0       -0.0\n",
              "23                      T_out         3.131673e-15  ...           0.0        0.0\n",
              "24        Humid_par_room(Cel)         4.039849e-15  ...           0.0        0.0\n",
              "25           Temp_teen_r(Cel)         5.184688e-15  ...           0.0        0.0\n",
              "26                 Appliances         1.000000e+00  ...           1.0        1.0\n",
              "\n",
              "[27 rows x 5 columns]"
            ]
          },
          "metadata": {
            "tags": []
          },
          "execution_count": 19
        }
      ]
    },
    {
      "cell_type": "code",
      "metadata": {
        "id": "4JA70-7HsFb9",
        "colab_type": "code",
        "colab": {
          "base_uri": "https://localhost:8080/",
          "height": 34
        },
        "outputId": "691292db-4806-4074-b975-cfd49af97b9b"
      },
      "source": [
        " from sklearn.metrics import  mean_squared_error\n",
        "rmse = np.sqrt(mean_squared_error(y_test, predicted_values))\n",
        "round(rmse, 3)"
      ],
      "execution_count": 20,
      "outputs": [
        {
          "output_type": "execute_result",
          "data": {
            "text/plain": [
              "0.0"
            ]
          },
          "metadata": {
            "tags": []
          },
          "execution_count": 20
        }
      ]
    }
  ]
}