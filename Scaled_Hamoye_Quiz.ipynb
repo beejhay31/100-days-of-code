{
  "nbformat": 4,
  "nbformat_minor": 0,
  "metadata": {
    "colab": {
      "name": "Scaled Hamoye Quiz.ipynb",
      "provenance": [],
      "authorship_tag": "ABX9TyNLQRV0Lib7OOrNWJBMZq91",
      "include_colab_link": true
    },
    "kernelspec": {
      "name": "python3",
      "display_name": "Python 3"
    },
    "accelerator": "GPU"
  },
  "cells": [
    {
      "cell_type": "markdown",
      "metadata": {
        "id": "view-in-github",
        "colab_type": "text"
      },
      "source": [
        "<a href=\"https://colab.research.google.com/github/beejhay31/100-days-of-code/blob/master/Scaled_Hamoye_Quiz.ipynb\" target=\"_parent\"><img src=\"https://colab.research.google.com/assets/colab-badge.svg\" alt=\"Open In Colab\"/></a>"
      ]
    },
    {
      "cell_type": "code",
      "metadata": {
        "id": "pgIwPm10nJbA",
        "colab_type": "code",
        "colab": {}
      },
      "source": [
        "import pandas as pd"
      ],
      "execution_count": null,
      "outputs": []
    },
    {
      "cell_type": "code",
      "metadata": {
        "id": "1E69-cs_p1rg",
        "colab_type": "code",
        "colab": {}
      },
      "source": [
        "df=pd.read_csv('https://archive.ics.uci.edu/ml/machine-learning-databases/00374/energydata_complete.csv')"
      ],
      "execution_count": null,
      "outputs": []
    },
    {
      "cell_type": "code",
      "metadata": {
        "id": "AgeSq2oQqDGI",
        "colab_type": "code",
        "colab": {
          "base_uri": "https://localhost:8080/",
          "height": 719
        },
        "outputId": "e04845a4-a080-4043-de9f-772b6bac98da"
      },
      "source": [
        "df.head(10)"
      ],
      "execution_count": null,
      "outputs": [
        {
          "output_type": "execute_result",
          "data": {
            "text/html": [
              "<div>\n",
              "<style scoped>\n",
              "    .dataframe tbody tr th:only-of-type {\n",
              "        vertical-align: middle;\n",
              "    }\n",
              "\n",
              "    .dataframe tbody tr th {\n",
              "        vertical-align: top;\n",
              "    }\n",
              "\n",
              "    .dataframe thead th {\n",
              "        text-align: right;\n",
              "    }\n",
              "</style>\n",
              "<table border=\"1\" class=\"dataframe\">\n",
              "  <thead>\n",
              "    <tr style=\"text-align: right;\">\n",
              "      <th></th>\n",
              "      <th>date</th>\n",
              "      <th>Appliances</th>\n",
              "      <th>lights</th>\n",
              "      <th>T1</th>\n",
              "      <th>RH_1</th>\n",
              "      <th>T2</th>\n",
              "      <th>RH_2</th>\n",
              "      <th>T3</th>\n",
              "      <th>RH_3</th>\n",
              "      <th>T4</th>\n",
              "      <th>RH_4</th>\n",
              "      <th>T5</th>\n",
              "      <th>RH_5</th>\n",
              "      <th>T6</th>\n",
              "      <th>RH_6</th>\n",
              "      <th>T7</th>\n",
              "      <th>RH_7</th>\n",
              "      <th>T8</th>\n",
              "      <th>RH_8</th>\n",
              "      <th>T9</th>\n",
              "      <th>RH_9</th>\n",
              "      <th>T_out</th>\n",
              "      <th>Press_mm_hg</th>\n",
              "      <th>RH_out</th>\n",
              "      <th>Windspeed</th>\n",
              "      <th>Visibility</th>\n",
              "      <th>Tdewpoint</th>\n",
              "      <th>rv1</th>\n",
              "      <th>rv2</th>\n",
              "    </tr>\n",
              "  </thead>\n",
              "  <tbody>\n",
              "    <tr>\n",
              "      <th>0</th>\n",
              "      <td>2016-01-11 17:00:00</td>\n",
              "      <td>60</td>\n",
              "      <td>30</td>\n",
              "      <td>19.890000</td>\n",
              "      <td>47.596667</td>\n",
              "      <td>19.20</td>\n",
              "      <td>44.790000</td>\n",
              "      <td>19.79</td>\n",
              "      <td>44.730000</td>\n",
              "      <td>19.000000</td>\n",
              "      <td>45.566667</td>\n",
              "      <td>17.166667</td>\n",
              "      <td>55.200000</td>\n",
              "      <td>7.026667</td>\n",
              "      <td>84.256667</td>\n",
              "      <td>17.200000</td>\n",
              "      <td>41.626667</td>\n",
              "      <td>18.2</td>\n",
              "      <td>48.900000</td>\n",
              "      <td>17.033333</td>\n",
              "      <td>45.53</td>\n",
              "      <td>6.600000</td>\n",
              "      <td>733.500000</td>\n",
              "      <td>92.000000</td>\n",
              "      <td>7.000000</td>\n",
              "      <td>63.000000</td>\n",
              "      <td>5.300000</td>\n",
              "      <td>13.275433</td>\n",
              "      <td>13.275433</td>\n",
              "    </tr>\n",
              "    <tr>\n",
              "      <th>1</th>\n",
              "      <td>2016-01-11 17:10:00</td>\n",
              "      <td>60</td>\n",
              "      <td>30</td>\n",
              "      <td>19.890000</td>\n",
              "      <td>46.693333</td>\n",
              "      <td>19.20</td>\n",
              "      <td>44.722500</td>\n",
              "      <td>19.79</td>\n",
              "      <td>44.790000</td>\n",
              "      <td>19.000000</td>\n",
              "      <td>45.992500</td>\n",
              "      <td>17.166667</td>\n",
              "      <td>55.200000</td>\n",
              "      <td>6.833333</td>\n",
              "      <td>84.063333</td>\n",
              "      <td>17.200000</td>\n",
              "      <td>41.560000</td>\n",
              "      <td>18.2</td>\n",
              "      <td>48.863333</td>\n",
              "      <td>17.066667</td>\n",
              "      <td>45.56</td>\n",
              "      <td>6.483333</td>\n",
              "      <td>733.600000</td>\n",
              "      <td>92.000000</td>\n",
              "      <td>6.666667</td>\n",
              "      <td>59.166667</td>\n",
              "      <td>5.200000</td>\n",
              "      <td>18.606195</td>\n",
              "      <td>18.606195</td>\n",
              "    </tr>\n",
              "    <tr>\n",
              "      <th>2</th>\n",
              "      <td>2016-01-11 17:20:00</td>\n",
              "      <td>50</td>\n",
              "      <td>30</td>\n",
              "      <td>19.890000</td>\n",
              "      <td>46.300000</td>\n",
              "      <td>19.20</td>\n",
              "      <td>44.626667</td>\n",
              "      <td>19.79</td>\n",
              "      <td>44.933333</td>\n",
              "      <td>18.926667</td>\n",
              "      <td>45.890000</td>\n",
              "      <td>17.166667</td>\n",
              "      <td>55.090000</td>\n",
              "      <td>6.560000</td>\n",
              "      <td>83.156667</td>\n",
              "      <td>17.200000</td>\n",
              "      <td>41.433333</td>\n",
              "      <td>18.2</td>\n",
              "      <td>48.730000</td>\n",
              "      <td>17.000000</td>\n",
              "      <td>45.50</td>\n",
              "      <td>6.366667</td>\n",
              "      <td>733.700000</td>\n",
              "      <td>92.000000</td>\n",
              "      <td>6.333333</td>\n",
              "      <td>55.333333</td>\n",
              "      <td>5.100000</td>\n",
              "      <td>28.642668</td>\n",
              "      <td>28.642668</td>\n",
              "    </tr>\n",
              "    <tr>\n",
              "      <th>3</th>\n",
              "      <td>2016-01-11 17:30:00</td>\n",
              "      <td>50</td>\n",
              "      <td>40</td>\n",
              "      <td>19.890000</td>\n",
              "      <td>46.066667</td>\n",
              "      <td>19.20</td>\n",
              "      <td>44.590000</td>\n",
              "      <td>19.79</td>\n",
              "      <td>45.000000</td>\n",
              "      <td>18.890000</td>\n",
              "      <td>45.723333</td>\n",
              "      <td>17.166667</td>\n",
              "      <td>55.090000</td>\n",
              "      <td>6.433333</td>\n",
              "      <td>83.423333</td>\n",
              "      <td>17.133333</td>\n",
              "      <td>41.290000</td>\n",
              "      <td>18.1</td>\n",
              "      <td>48.590000</td>\n",
              "      <td>17.000000</td>\n",
              "      <td>45.40</td>\n",
              "      <td>6.250000</td>\n",
              "      <td>733.800000</td>\n",
              "      <td>92.000000</td>\n",
              "      <td>6.000000</td>\n",
              "      <td>51.500000</td>\n",
              "      <td>5.000000</td>\n",
              "      <td>45.410389</td>\n",
              "      <td>45.410389</td>\n",
              "    </tr>\n",
              "    <tr>\n",
              "      <th>4</th>\n",
              "      <td>2016-01-11 17:40:00</td>\n",
              "      <td>60</td>\n",
              "      <td>40</td>\n",
              "      <td>19.890000</td>\n",
              "      <td>46.333333</td>\n",
              "      <td>19.20</td>\n",
              "      <td>44.530000</td>\n",
              "      <td>19.79</td>\n",
              "      <td>45.000000</td>\n",
              "      <td>18.890000</td>\n",
              "      <td>45.530000</td>\n",
              "      <td>17.200000</td>\n",
              "      <td>55.090000</td>\n",
              "      <td>6.366667</td>\n",
              "      <td>84.893333</td>\n",
              "      <td>17.200000</td>\n",
              "      <td>41.230000</td>\n",
              "      <td>18.1</td>\n",
              "      <td>48.590000</td>\n",
              "      <td>17.000000</td>\n",
              "      <td>45.40</td>\n",
              "      <td>6.133333</td>\n",
              "      <td>733.900000</td>\n",
              "      <td>92.000000</td>\n",
              "      <td>5.666667</td>\n",
              "      <td>47.666667</td>\n",
              "      <td>4.900000</td>\n",
              "      <td>10.084097</td>\n",
              "      <td>10.084097</td>\n",
              "    </tr>\n",
              "    <tr>\n",
              "      <th>5</th>\n",
              "      <td>2016-01-11 17:50:00</td>\n",
              "      <td>50</td>\n",
              "      <td>40</td>\n",
              "      <td>19.890000</td>\n",
              "      <td>46.026667</td>\n",
              "      <td>19.20</td>\n",
              "      <td>44.500000</td>\n",
              "      <td>19.79</td>\n",
              "      <td>44.933333</td>\n",
              "      <td>18.890000</td>\n",
              "      <td>45.730000</td>\n",
              "      <td>17.133333</td>\n",
              "      <td>55.030000</td>\n",
              "      <td>6.300000</td>\n",
              "      <td>85.766667</td>\n",
              "      <td>17.133333</td>\n",
              "      <td>41.260000</td>\n",
              "      <td>18.1</td>\n",
              "      <td>48.590000</td>\n",
              "      <td>17.000000</td>\n",
              "      <td>45.29</td>\n",
              "      <td>6.016667</td>\n",
              "      <td>734.000000</td>\n",
              "      <td>92.000000</td>\n",
              "      <td>5.333333</td>\n",
              "      <td>43.833333</td>\n",
              "      <td>4.800000</td>\n",
              "      <td>44.919484</td>\n",
              "      <td>44.919484</td>\n",
              "    </tr>\n",
              "    <tr>\n",
              "      <th>6</th>\n",
              "      <td>2016-01-11 18:00:00</td>\n",
              "      <td>60</td>\n",
              "      <td>50</td>\n",
              "      <td>19.890000</td>\n",
              "      <td>45.766667</td>\n",
              "      <td>19.20</td>\n",
              "      <td>44.500000</td>\n",
              "      <td>19.79</td>\n",
              "      <td>44.900000</td>\n",
              "      <td>18.890000</td>\n",
              "      <td>45.790000</td>\n",
              "      <td>17.100000</td>\n",
              "      <td>54.966667</td>\n",
              "      <td>6.263333</td>\n",
              "      <td>86.090000</td>\n",
              "      <td>17.133333</td>\n",
              "      <td>41.200000</td>\n",
              "      <td>18.1</td>\n",
              "      <td>48.590000</td>\n",
              "      <td>17.000000</td>\n",
              "      <td>45.29</td>\n",
              "      <td>5.900000</td>\n",
              "      <td>734.100000</td>\n",
              "      <td>92.000000</td>\n",
              "      <td>5.000000</td>\n",
              "      <td>40.000000</td>\n",
              "      <td>4.700000</td>\n",
              "      <td>47.233763</td>\n",
              "      <td>47.233763</td>\n",
              "    </tr>\n",
              "    <tr>\n",
              "      <th>7</th>\n",
              "      <td>2016-01-11 18:10:00</td>\n",
              "      <td>60</td>\n",
              "      <td>50</td>\n",
              "      <td>19.856667</td>\n",
              "      <td>45.560000</td>\n",
              "      <td>19.20</td>\n",
              "      <td>44.500000</td>\n",
              "      <td>19.73</td>\n",
              "      <td>44.900000</td>\n",
              "      <td>18.890000</td>\n",
              "      <td>45.863333</td>\n",
              "      <td>17.100000</td>\n",
              "      <td>54.900000</td>\n",
              "      <td>6.190000</td>\n",
              "      <td>86.423333</td>\n",
              "      <td>17.100000</td>\n",
              "      <td>41.200000</td>\n",
              "      <td>18.1</td>\n",
              "      <td>48.590000</td>\n",
              "      <td>17.000000</td>\n",
              "      <td>45.29</td>\n",
              "      <td>5.916667</td>\n",
              "      <td>734.166667</td>\n",
              "      <td>91.833333</td>\n",
              "      <td>5.166667</td>\n",
              "      <td>40.000000</td>\n",
              "      <td>4.683333</td>\n",
              "      <td>33.039890</td>\n",
              "      <td>33.039890</td>\n",
              "    </tr>\n",
              "    <tr>\n",
              "      <th>8</th>\n",
              "      <td>2016-01-11 18:20:00</td>\n",
              "      <td>60</td>\n",
              "      <td>40</td>\n",
              "      <td>19.790000</td>\n",
              "      <td>45.597500</td>\n",
              "      <td>19.20</td>\n",
              "      <td>44.433333</td>\n",
              "      <td>19.73</td>\n",
              "      <td>44.790000</td>\n",
              "      <td>18.890000</td>\n",
              "      <td>45.790000</td>\n",
              "      <td>17.166667</td>\n",
              "      <td>55.000000</td>\n",
              "      <td>6.123333</td>\n",
              "      <td>87.226667</td>\n",
              "      <td>17.166667</td>\n",
              "      <td>41.400000</td>\n",
              "      <td>18.1</td>\n",
              "      <td>48.590000</td>\n",
              "      <td>17.000000</td>\n",
              "      <td>45.29</td>\n",
              "      <td>5.933333</td>\n",
              "      <td>734.233333</td>\n",
              "      <td>91.666667</td>\n",
              "      <td>5.333333</td>\n",
              "      <td>40.000000</td>\n",
              "      <td>4.666667</td>\n",
              "      <td>31.455702</td>\n",
              "      <td>31.455702</td>\n",
              "    </tr>\n",
              "    <tr>\n",
              "      <th>9</th>\n",
              "      <td>2016-01-11 18:30:00</td>\n",
              "      <td>70</td>\n",
              "      <td>40</td>\n",
              "      <td>19.856667</td>\n",
              "      <td>46.090000</td>\n",
              "      <td>19.23</td>\n",
              "      <td>44.400000</td>\n",
              "      <td>19.79</td>\n",
              "      <td>44.863333</td>\n",
              "      <td>18.890000</td>\n",
              "      <td>46.096667</td>\n",
              "      <td>17.100000</td>\n",
              "      <td>55.000000</td>\n",
              "      <td>6.190000</td>\n",
              "      <td>87.626667</td>\n",
              "      <td>17.200000</td>\n",
              "      <td>41.500000</td>\n",
              "      <td>18.1</td>\n",
              "      <td>48.590000</td>\n",
              "      <td>17.000000</td>\n",
              "      <td>45.29</td>\n",
              "      <td>5.950000</td>\n",
              "      <td>734.300000</td>\n",
              "      <td>91.500000</td>\n",
              "      <td>5.500000</td>\n",
              "      <td>40.000000</td>\n",
              "      <td>4.650000</td>\n",
              "      <td>3.089314</td>\n",
              "      <td>3.089314</td>\n",
              "    </tr>\n",
              "  </tbody>\n",
              "</table>\n",
              "</div>"
            ],
            "text/plain": [
              "                  date  Appliances  lights  ...  Tdewpoint        rv1        rv2\n",
              "0  2016-01-11 17:00:00          60      30  ...   5.300000  13.275433  13.275433\n",
              "1  2016-01-11 17:10:00          60      30  ...   5.200000  18.606195  18.606195\n",
              "2  2016-01-11 17:20:00          50      30  ...   5.100000  28.642668  28.642668\n",
              "3  2016-01-11 17:30:00          50      40  ...   5.000000  45.410389  45.410389\n",
              "4  2016-01-11 17:40:00          60      40  ...   4.900000  10.084097  10.084097\n",
              "5  2016-01-11 17:50:00          50      40  ...   4.800000  44.919484  44.919484\n",
              "6  2016-01-11 18:00:00          60      50  ...   4.700000  47.233763  47.233763\n",
              "7  2016-01-11 18:10:00          60      50  ...   4.683333  33.039890  33.039890\n",
              "8  2016-01-11 18:20:00          60      40  ...   4.666667  31.455702  31.455702\n",
              "9  2016-01-11 18:30:00          70      40  ...   4.650000   3.089314   3.089314\n",
              "\n",
              "[10 rows x 29 columns]"
            ]
          },
          "metadata": {
            "tags": []
          },
          "execution_count": 3
        }
      ]
    },
    {
      "cell_type": "code",
      "metadata": {
        "id": "XLZwmccwFqzi",
        "colab_type": "code",
        "colab": {}
      },
      "source": [
        ""
      ],
      "execution_count": null,
      "outputs": []
    },
    {
      "cell_type": "code",
      "metadata": {
        "id": "UOCyqMMZqQKA",
        "colab_type": "code",
        "colab": {}
      },
      "source": [
        "column_names = {'T1':'Temp_Kitch(Cel)', 'RH_1': 'Humid_kitch(%)',\n",
        "'T2': 'Temp_liv_r(Cel)', 'RH_2': 'Humid_liv_r(%)', 'T3': 'Temp_laund_r(Cel)', 'RH_3': 'Humid_laund_r(%)',\n",
        "'T4': 'Temp_office_r(Cel)', 'RH_4': 'Humid_office_r(%)', 'T5': 'Temp_bath_r(Cel)', 'RH_5': 'Humid_bath_r(%)', \n",
        "'T6': 'Temp_out_build_North(Cel)', 'RH_6': 'Humid_out_build_North(%)',\n",
        "'T7': 'Temp_iron_r(Cel)', 'RH_7': 'Humid_iron_r(%)', 'T8': 'Temp_teen_r(Cel)', 'RH_8': 'Humid_teen_r(%)',\n",
        "'T9': 'Humid_par_room(Cel)', 'RH_9': 'Humid_par_room(%)',\n",
        "'rv1': 'rand_var1', 'rv2': 'rand_var2'}"
      ],
      "execution_count": null,
      "outputs": []
    },
    {
      "cell_type": "code",
      "metadata": {
        "id": "PLvkgoImuqCE",
        "colab_type": "code",
        "colab": {}
      },
      "source": [
        "df = df.rename(columns=column_names)"
      ],
      "execution_count": null,
      "outputs": []
    },
    {
      "cell_type": "code",
      "metadata": {
        "id": "XuzzNMmcus_o",
        "colab_type": "code",
        "colab": {}
      },
      "source": [
        "from sklearn.preprocessing import MinMaxScaler\n",
        "scaler = MinMaxScaler()\n",
        "features_df = df.drop(columns=['date', 'lights'])\n",
        "normalised_df = pd.DataFrame(scaler.fit_transform(features_df), columns=features_df.columns)\n",
        "#features_df = normalised_df.drop(columns=['date', 'lights'])\n",
        "target_var = normalised_df['Appliances']"
      ],
      "execution_count": null,
      "outputs": []
    },
    {
      "cell_type": "code",
      "metadata": {
        "id": "UrVu4IohwD6z",
        "colab_type": "code",
        "colab": {}
      },
      "source": [
        "from sklearn.model_selection import train_test_split\n",
        "x_train, x_test, y_train, y_test = train_test_split(normalised_df, target_var, test_size=0.3, random_state=42)"
      ],
      "execution_count": null,
      "outputs": []
    },
    {
      "cell_type": "code",
      "metadata": {
        "id": "8lrFdxY9xgZj",
        "colab_type": "code",
        "colab": {}
      },
      "source": [
        "from sklearn.linear_model import LinearRegression\n",
        "linear_reg = LinearRegression()\n",
        "linear_reg.fit(x_train, y_train)\n",
        "predicted_values = linear_reg.predict(x_test)"
      ],
      "execution_count": null,
      "outputs": []
    },
    {
      "cell_type": "code",
      "metadata": {
        "id": "TcBQkR9Jyguz",
        "colab_type": "code",
        "colab": {
          "base_uri": "https://localhost:8080/",
          "height": 419
        },
        "outputId": "f9cc341f-4f8c-4126-8cb1-3615012a0610"
      },
      "source": [
        "pred_val_df=pd.DataFrame(predicted_values)\n",
        "pred_val_df"
      ],
      "execution_count": null,
      "outputs": [
        {
          "output_type": "execute_result",
          "data": {
            "text/html": [
              "<div>\n",
              "<style scoped>\n",
              "    .dataframe tbody tr th:only-of-type {\n",
              "        vertical-align: middle;\n",
              "    }\n",
              "\n",
              "    .dataframe tbody tr th {\n",
              "        vertical-align: top;\n",
              "    }\n",
              "\n",
              "    .dataframe thead th {\n",
              "        text-align: right;\n",
              "    }\n",
              "</style>\n",
              "<table border=\"1\" class=\"dataframe\">\n",
              "  <thead>\n",
              "    <tr style=\"text-align: right;\">\n",
              "      <th></th>\n",
              "      <th>0</th>\n",
              "    </tr>\n",
              "  </thead>\n",
              "  <tbody>\n",
              "    <tr>\n",
              "      <th>0</th>\n",
              "      <td>0.028037</td>\n",
              "    </tr>\n",
              "    <tr>\n",
              "      <th>1</th>\n",
              "      <td>0.074766</td>\n",
              "    </tr>\n",
              "    <tr>\n",
              "      <th>2</th>\n",
              "      <td>0.037383</td>\n",
              "    </tr>\n",
              "    <tr>\n",
              "      <th>3</th>\n",
              "      <td>0.037383</td>\n",
              "    </tr>\n",
              "    <tr>\n",
              "      <th>4</th>\n",
              "      <td>0.056075</td>\n",
              "    </tr>\n",
              "    <tr>\n",
              "      <th>...</th>\n",
              "      <td>...</td>\n",
              "    </tr>\n",
              "    <tr>\n",
              "      <th>5916</th>\n",
              "      <td>0.224299</td>\n",
              "    </tr>\n",
              "    <tr>\n",
              "      <th>5917</th>\n",
              "      <td>0.046729</td>\n",
              "    </tr>\n",
              "    <tr>\n",
              "      <th>5918</th>\n",
              "      <td>0.037383</td>\n",
              "    </tr>\n",
              "    <tr>\n",
              "      <th>5919</th>\n",
              "      <td>0.093458</td>\n",
              "    </tr>\n",
              "    <tr>\n",
              "      <th>5920</th>\n",
              "      <td>0.037383</td>\n",
              "    </tr>\n",
              "  </tbody>\n",
              "</table>\n",
              "<p>5921 rows × 1 columns</p>\n",
              "</div>"
            ],
            "text/plain": [
              "             0\n",
              "0     0.028037\n",
              "1     0.074766\n",
              "2     0.037383\n",
              "3     0.037383\n",
              "4     0.056075\n",
              "...        ...\n",
              "5916  0.224299\n",
              "5917  0.046729\n",
              "5918  0.037383\n",
              "5919  0.093458\n",
              "5920  0.037383\n",
              "\n",
              "[5921 rows x 1 columns]"
            ]
          },
          "metadata": {
            "tags": []
          },
          "execution_count": 9
        }
      ]
    },
    {
      "cell_type": "code",
      "metadata": {
        "id": "k5eMJ6aSzJkZ",
        "colab_type": "code",
        "colab": {
          "base_uri": "https://localhost:8080/",
          "height": 34
        },
        "outputId": "5ccc4355-079b-4a0f-d588-f546d0edeb3a"
      },
      "source": [
        "from sklearn.metrics import mean_absolute_error\n",
        "mae = mean_absolute_error(y_test, predicted_values)\n",
        "round(mae, 3)"
      ],
      "execution_count": null,
      "outputs": [
        {
          "output_type": "execute_result",
          "data": {
            "text/plain": [
              "0.0"
            ]
          },
          "metadata": {
            "tags": []
          },
          "execution_count": 11
        }
      ]
    },
    {
      "cell_type": "code",
      "metadata": {
        "id": "FpUD5OgOnc-0",
        "colab_type": "code",
        "colab": {
          "base_uri": "https://localhost:8080/",
          "height": 34
        },
        "outputId": "b7abe267-5b0c-41f6-d8a4-b3e74108df76"
      },
      "source": [
        "from sklearn.metrics import r2_score\n",
        "r2_score = r2_score(y_test, predicted_values)\n",
        "round(r2_score, 3)"
      ],
      "execution_count": null,
      "outputs": [
        {
          "output_type": "execute_result",
          "data": {
            "text/plain": [
              "1.0"
            ]
          },
          "metadata": {
            "tags": []
          },
          "execution_count": 12
        }
      ]
    },
    {
      "cell_type": "code",
      "metadata": {
        "id": "qv4c1xgNpVKj",
        "colab_type": "code",
        "colab": {
          "base_uri": "https://localhost:8080/",
          "height": 34
        },
        "outputId": "f4247a76-f505-4ece-b5fa-6bf731fcf4fd"
      },
      "source": [
        "import numpy as np\n",
        "rss = np.sum(np.square(y_test - predicted_values))\n",
        "round(rss, 3)"
      ],
      "execution_count": null,
      "outputs": [
        {
          "output_type": "execute_result",
          "data": {
            "text/plain": [
              "0.0"
            ]
          },
          "metadata": {
            "tags": []
          },
          "execution_count": 13
        }
      ]
    },
    {
      "cell_type": "code",
      "metadata": {
        "id": "07_rsYEnpUXK",
        "colab_type": "code",
        "colab": {
          "base_uri": "https://localhost:8080/",
          "height": 34
        },
        "outputId": "bdd88086-05f9-4322-bd86-c47cc3049cc6"
      },
      "source": [
        "from sklearn.metrics import  mean_squared_error\n",
        "rmse = np.sqrt(mean_squared_error(y_test, predicted_values))\n",
        "round(rmse, 3)"
      ],
      "execution_count": null,
      "outputs": [
        {
          "output_type": "execute_result",
          "data": {
            "text/plain": [
              "0.0"
            ]
          },
          "metadata": {
            "tags": []
          },
          "execution_count": 14
        }
      ]
    },
    {
      "cell_type": "code",
      "metadata": {
        "id": "YUAGYXvCp1Xj",
        "colab_type": "code",
        "colab": {
          "base_uri": "https://localhost:8080/",
          "height": 51
        },
        "outputId": "b489fa25-f132-4e2a-9e46-9a262523ce76"
      },
      "source": [
        "from sklearn.linear_model import Ridge\n",
        "ridge_reg = Ridge(alpha=0.5)\n",
        "ridge_reg.fit(x_train, y_train)"
      ],
      "execution_count": null,
      "outputs": [
        {
          "output_type": "execute_result",
          "data": {
            "text/plain": [
              "Ridge(alpha=0.5, copy_X=True, fit_intercept=True, max_iter=None,\n",
              "      normalize=False, random_state=None, solver='auto', tol=0.001)"
            ]
          },
          "metadata": {
            "tags": []
          },
          "execution_count": 15
        }
      ]
    },
    {
      "cell_type": "code",
      "metadata": {
        "id": "1qrhKLKQp0xz",
        "colab_type": "code",
        "colab": {
          "base_uri": "https://localhost:8080/",
          "height": 68
        },
        "outputId": "dfbc2fbd-7f0f-498e-a059-e9ba42ce1e23"
      },
      "source": [
        "from sklearn.linear_model import Lasso\n",
        "lasso_reg = Lasso(alpha=0.001)\n",
        "lasso_reg.fit(x_train, y_train)"
      ],
      "execution_count": null,
      "outputs": [
        {
          "output_type": "execute_result",
          "data": {
            "text/plain": [
              "Lasso(alpha=0.001, copy_X=True, fit_intercept=True, max_iter=1000,\n",
              "      normalize=False, positive=False, precompute=False, random_state=None,\n",
              "      selection='cyclic', tol=0.0001, warm_start=False)"
            ]
          },
          "metadata": {
            "tags": []
          },
          "execution_count": 16
        }
      ]
    },
    {
      "cell_type": "code",
      "metadata": {
        "id": "yWsswklLpTdy",
        "colab_type": "code",
        "colab": {
          "base_uri": "https://localhost:8080/",
          "height": 68
        },
        "outputId": "b8a8f2c9-f882-4bc2-a31a-8eda3a8a301c"
      },
      "source": [
        "from sklearn.linear_model import ElasticNet\n",
        "e_net = ElasticNet(alpha = 0.001) \n",
        "e_net.fit(x_train, y_train) "
      ],
      "execution_count": null,
      "outputs": [
        {
          "output_type": "execute_result",
          "data": {
            "text/plain": [
              "ElasticNet(alpha=0.001, copy_X=True, fit_intercept=True, l1_ratio=0.5,\n",
              "           max_iter=1000, normalize=False, positive=False, precompute=False,\n",
              "           random_state=None, selection='cyclic', tol=0.0001, warm_start=False)"
            ]
          },
          "metadata": {
            "tags": []
          },
          "execution_count": 17
        }
      ]
    },
    {
      "cell_type": "code",
      "metadata": {
        "id": "1PxNwaR4qvFG",
        "colab_type": "code",
        "colab": {}
      },
      "source": [
        "def get_weights_df(model, feat, col_name):\n",
        "  #this function returns the weight of every feature\n",
        "  weights = pd.Series(model.coef_, feat.columns).sort_values()\n",
        "  weights_df = pd.DataFrame(weights).reset_index()\n",
        "  weights_df.columns = ['Features', col_name]\n",
        "  weights_df[col_name].round(3)\n",
        "  return weights_df"
      ],
      "execution_count": null,
      "outputs": []
    },
    {
      "cell_type": "code",
      "metadata": {
        "id": "tXzOLv9EquqB",
        "colab_type": "code",
        "colab": {}
      },
      "source": [
        "linear_model_weights = get_weights_df(linear_reg, x_train, 'Linear_Model_Weight')\n",
        "ridge_weights_df = get_weights_df(ridge_reg, x_train, 'Ridge_Weight')\n",
        "lasso_weights_df = get_weights_df(lasso_reg, x_train, 'Lasso_weight')\n",
        "e_weights_df = get_weights_df(e_net, x_train, 'E_weights')"
      ],
      "execution_count": null,
      "outputs": []
    },
    {
      "cell_type": "code",
      "metadata": {
        "id": "flMQp8f8qt0a",
        "colab_type": "code",
        "colab": {}
      },
      "source": [
        "final_weights = pd.merge(linear_model_weights, ridge_weights_df, on='Features')\n",
        "final_weights = pd.merge(final_weights, lasso_weights_df, on='Features')\n",
        "final_weights=pd.merge(final_weights, e_weights_df, on='Features')"
      ],
      "execution_count": null,
      "outputs": []
    },
    {
      "cell_type": "code",
      "metadata": {
        "id": "laiPdJd0sIPn",
        "colab_type": "code",
        "colab": {
          "base_uri": "https://localhost:8080/",
          "height": 886
        },
        "outputId": "b4f6b7fa-75a5-4ee0-bde8-1850bee47fc8"
      },
      "source": [
        "final_weights"
      ],
      "execution_count": null,
      "outputs": [
        {
          "output_type": "execute_result",
          "data": {
            "text/html": [
              "<div>\n",
              "<style scoped>\n",
              "    .dataframe tbody tr th:only-of-type {\n",
              "        vertical-align: middle;\n",
              "    }\n",
              "\n",
              "    .dataframe tbody tr th {\n",
              "        vertical-align: top;\n",
              "    }\n",
              "\n",
              "    .dataframe thead th {\n",
              "        text-align: right;\n",
              "    }\n",
              "</style>\n",
              "<table border=\"1\" class=\"dataframe\">\n",
              "  <thead>\n",
              "    <tr style=\"text-align: right;\">\n",
              "      <th></th>\n",
              "      <th>Features</th>\n",
              "      <th>Linear_Model_Weight</th>\n",
              "      <th>Ridge_Weight</th>\n",
              "      <th>Lasso_weight</th>\n",
              "      <th>E_weights</th>\n",
              "    </tr>\n",
              "  </thead>\n",
              "  <tbody>\n",
              "    <tr>\n",
              "      <th>0</th>\n",
              "      <td>Humid_liv_r(%)</td>\n",
              "      <td>-3.188348e-16</td>\n",
              "      <td>-0.001818</td>\n",
              "      <td>-0.000000</td>\n",
              "      <td>-0.000000</td>\n",
              "    </tr>\n",
              "    <tr>\n",
              "      <th>1</th>\n",
              "      <td>Windspeed</td>\n",
              "      <td>-2.278562e-16</td>\n",
              "      <td>0.000138</td>\n",
              "      <td>0.000000</td>\n",
              "      <td>0.000000</td>\n",
              "    </tr>\n",
              "    <tr>\n",
              "      <th>2</th>\n",
              "      <td>Temp_liv_r(Cel)</td>\n",
              "      <td>-2.054633e-16</td>\n",
              "      <td>-0.000879</td>\n",
              "      <td>0.000000</td>\n",
              "      <td>0.000000</td>\n",
              "    </tr>\n",
              "    <tr>\n",
              "      <th>3</th>\n",
              "      <td>Humid_office_r(%)</td>\n",
              "      <td>-1.092237e-16</td>\n",
              "      <td>0.000110</td>\n",
              "      <td>0.000000</td>\n",
              "      <td>0.000000</td>\n",
              "    </tr>\n",
              "    <tr>\n",
              "      <th>4</th>\n",
              "      <td>Humid_laund_r(%)</td>\n",
              "      <td>-9.242872e-17</td>\n",
              "      <td>0.000431</td>\n",
              "      <td>0.000000</td>\n",
              "      <td>0.000000</td>\n",
              "    </tr>\n",
              "    <tr>\n",
              "      <th>5</th>\n",
              "      <td>Humid_out_build_North(%)</td>\n",
              "      <td>-8.979859e-17</td>\n",
              "      <td>0.000159</td>\n",
              "      <td>-0.000000</td>\n",
              "      <td>-0.000000</td>\n",
              "    </tr>\n",
              "    <tr>\n",
              "      <th>6</th>\n",
              "      <td>rand_var2</td>\n",
              "      <td>-8.315675e-17</td>\n",
              "      <td>0.000003</td>\n",
              "      <td>-0.000000</td>\n",
              "      <td>-0.000000</td>\n",
              "    </tr>\n",
              "    <tr>\n",
              "      <th>7</th>\n",
              "      <td>rand_var1</td>\n",
              "      <td>-8.315675e-17</td>\n",
              "      <td>0.000003</td>\n",
              "      <td>-0.000000</td>\n",
              "      <td>-0.000000</td>\n",
              "    </tr>\n",
              "    <tr>\n",
              "      <th>8</th>\n",
              "      <td>Temp_Kitch(Cel)</td>\n",
              "      <td>-7.787265e-17</td>\n",
              "      <td>-0.000098</td>\n",
              "      <td>0.000000</td>\n",
              "      <td>0.000000</td>\n",
              "    </tr>\n",
              "    <tr>\n",
              "      <th>9</th>\n",
              "      <td>Visibility</td>\n",
              "      <td>-4.138629e-17</td>\n",
              "      <td>0.000055</td>\n",
              "      <td>0.000000</td>\n",
              "      <td>0.000000</td>\n",
              "    </tr>\n",
              "    <tr>\n",
              "      <th>10</th>\n",
              "      <td>Temp_bath_r(Cel)</td>\n",
              "      <td>-1.007527e-17</td>\n",
              "      <td>-0.000094</td>\n",
              "      <td>0.000000</td>\n",
              "      <td>0.000000</td>\n",
              "    </tr>\n",
              "    <tr>\n",
              "      <th>11</th>\n",
              "      <td>Temp_teen_r(Cel)</td>\n",
              "      <td>9.238327e-19</td>\n",
              "      <td>0.000457</td>\n",
              "      <td>0.000000</td>\n",
              "      <td>0.000000</td>\n",
              "    </tr>\n",
              "    <tr>\n",
              "      <th>12</th>\n",
              "      <td>Temp_iron_r(Cel)</td>\n",
              "      <td>8.804554e-18</td>\n",
              "      <td>0.000045</td>\n",
              "      <td>0.000000</td>\n",
              "      <td>0.000000</td>\n",
              "    </tr>\n",
              "    <tr>\n",
              "      <th>13</th>\n",
              "      <td>Temp_laund_r(Cel)</td>\n",
              "      <td>1.388656e-17</td>\n",
              "      <td>0.001303</td>\n",
              "      <td>0.000000</td>\n",
              "      <td>0.000000</td>\n",
              "    </tr>\n",
              "    <tr>\n",
              "      <th>14</th>\n",
              "      <td>Humid_bath_r(%)</td>\n",
              "      <td>1.648234e-17</td>\n",
              "      <td>0.000073</td>\n",
              "      <td>0.000000</td>\n",
              "      <td>0.000000</td>\n",
              "    </tr>\n",
              "    <tr>\n",
              "      <th>15</th>\n",
              "      <td>T_out</td>\n",
              "      <td>3.137894e-17</td>\n",
              "      <td>-0.001137</td>\n",
              "      <td>0.000000</td>\n",
              "      <td>0.000000</td>\n",
              "    </tr>\n",
              "    <tr>\n",
              "      <th>16</th>\n",
              "      <td>Humid_par_room(Cel)</td>\n",
              "      <td>3.517382e-17</td>\n",
              "      <td>-0.000855</td>\n",
              "      <td>0.000000</td>\n",
              "      <td>0.000000</td>\n",
              "    </tr>\n",
              "    <tr>\n",
              "      <th>17</th>\n",
              "      <td>Humid_teen_r(%)</td>\n",
              "      <td>3.717897e-17</td>\n",
              "      <td>-0.000710</td>\n",
              "      <td>-0.000000</td>\n",
              "      <td>-0.000000</td>\n",
              "    </tr>\n",
              "    <tr>\n",
              "      <th>18</th>\n",
              "      <td>Temp_out_build_North(Cel)</td>\n",
              "      <td>4.869099e-17</td>\n",
              "      <td>0.000967</td>\n",
              "      <td>0.000000</td>\n",
              "      <td>0.000000</td>\n",
              "    </tr>\n",
              "    <tr>\n",
              "      <th>19</th>\n",
              "      <td>Press_mm_hg</td>\n",
              "      <td>7.829226e-17</td>\n",
              "      <td>0.000030</td>\n",
              "      <td>-0.000000</td>\n",
              "      <td>-0.000000</td>\n",
              "    </tr>\n",
              "    <tr>\n",
              "      <th>20</th>\n",
              "      <td>Tdewpoint</td>\n",
              "      <td>1.071812e-16</td>\n",
              "      <td>0.000348</td>\n",
              "      <td>0.000000</td>\n",
              "      <td>0.000000</td>\n",
              "    </tr>\n",
              "    <tr>\n",
              "      <th>21</th>\n",
              "      <td>Humid_kitch(%)</td>\n",
              "      <td>1.225757e-16</td>\n",
              "      <td>0.002321</td>\n",
              "      <td>0.000000</td>\n",
              "      <td>0.000000</td>\n",
              "    </tr>\n",
              "    <tr>\n",
              "      <th>22</th>\n",
              "      <td>Humid_iron_r(%)</td>\n",
              "      <td>1.310702e-16</td>\n",
              "      <td>-0.000210</td>\n",
              "      <td>-0.000000</td>\n",
              "      <td>-0.000000</td>\n",
              "    </tr>\n",
              "    <tr>\n",
              "      <th>23</th>\n",
              "      <td>Temp_office_r(Cel)</td>\n",
              "      <td>1.334537e-16</td>\n",
              "      <td>0.000122</td>\n",
              "      <td>0.000000</td>\n",
              "      <td>0.000000</td>\n",
              "    </tr>\n",
              "    <tr>\n",
              "      <th>24</th>\n",
              "      <td>Humid_par_room(%)</td>\n",
              "      <td>1.477002e-16</td>\n",
              "      <td>-0.000189</td>\n",
              "      <td>-0.000000</td>\n",
              "      <td>-0.000000</td>\n",
              "    </tr>\n",
              "    <tr>\n",
              "      <th>25</th>\n",
              "      <td>RH_out</td>\n",
              "      <td>1.550144e-16</td>\n",
              "      <td>-0.000229</td>\n",
              "      <td>-0.000000</td>\n",
              "      <td>-0.000000</td>\n",
              "    </tr>\n",
              "    <tr>\n",
              "      <th>26</th>\n",
              "      <td>Appliances</td>\n",
              "      <td>1.000000e+00</td>\n",
              "      <td>0.995467</td>\n",
              "      <td>0.891991</td>\n",
              "      <td>0.897525</td>\n",
              "    </tr>\n",
              "  </tbody>\n",
              "</table>\n",
              "</div>"
            ],
            "text/plain": [
              "                     Features  Linear_Model_Weight  ...  Lasso_weight  E_weights\n",
              "0              Humid_liv_r(%)        -3.188348e-16  ...     -0.000000  -0.000000\n",
              "1                   Windspeed        -2.278562e-16  ...      0.000000   0.000000\n",
              "2             Temp_liv_r(Cel)        -2.054633e-16  ...      0.000000   0.000000\n",
              "3           Humid_office_r(%)        -1.092237e-16  ...      0.000000   0.000000\n",
              "4            Humid_laund_r(%)        -9.242872e-17  ...      0.000000   0.000000\n",
              "5    Humid_out_build_North(%)        -8.979859e-17  ...     -0.000000  -0.000000\n",
              "6                   rand_var2        -8.315675e-17  ...     -0.000000  -0.000000\n",
              "7                   rand_var1        -8.315675e-17  ...     -0.000000  -0.000000\n",
              "8             Temp_Kitch(Cel)        -7.787265e-17  ...      0.000000   0.000000\n",
              "9                  Visibility        -4.138629e-17  ...      0.000000   0.000000\n",
              "10           Temp_bath_r(Cel)        -1.007527e-17  ...      0.000000   0.000000\n",
              "11           Temp_teen_r(Cel)         9.238327e-19  ...      0.000000   0.000000\n",
              "12           Temp_iron_r(Cel)         8.804554e-18  ...      0.000000   0.000000\n",
              "13          Temp_laund_r(Cel)         1.388656e-17  ...      0.000000   0.000000\n",
              "14            Humid_bath_r(%)         1.648234e-17  ...      0.000000   0.000000\n",
              "15                      T_out         3.137894e-17  ...      0.000000   0.000000\n",
              "16        Humid_par_room(Cel)         3.517382e-17  ...      0.000000   0.000000\n",
              "17            Humid_teen_r(%)         3.717897e-17  ...     -0.000000  -0.000000\n",
              "18  Temp_out_build_North(Cel)         4.869099e-17  ...      0.000000   0.000000\n",
              "19                Press_mm_hg         7.829226e-17  ...     -0.000000  -0.000000\n",
              "20                  Tdewpoint         1.071812e-16  ...      0.000000   0.000000\n",
              "21             Humid_kitch(%)         1.225757e-16  ...      0.000000   0.000000\n",
              "22            Humid_iron_r(%)         1.310702e-16  ...     -0.000000  -0.000000\n",
              "23         Temp_office_r(Cel)         1.334537e-16  ...      0.000000   0.000000\n",
              "24          Humid_par_room(%)         1.477002e-16  ...     -0.000000  -0.000000\n",
              "25                     RH_out         1.550144e-16  ...     -0.000000  -0.000000\n",
              "26                 Appliances         1.000000e+00  ...      0.891991   0.897525\n",
              "\n",
              "[27 rows x 5 columns]"
            ]
          },
          "metadata": {
            "tags": []
          },
          "execution_count": 21
        }
      ]
    },
    {
      "cell_type": "code",
      "metadata": {
        "id": "aODlNZHHsHoS",
        "colab_type": "code",
        "colab": {}
      },
      "source": [
        ""
      ],
      "execution_count": null,
      "outputs": []
    }
  ]
}